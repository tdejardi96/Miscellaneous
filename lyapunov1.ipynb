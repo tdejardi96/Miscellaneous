{
 "cells": [
  {
   "cell_type": "code",
   "execution_count": 27,
   "metadata": {},
   "outputs": [],
   "source": [
    "import numpy as np\n",
    "import scipy as sp\n",
    "from numpy import linalg as nla\n",
    "import matplotlib.pyplot as plt"
   ]
  },
  {
   "cell_type": "code",
   "execution_count": 28,
   "metadata": {},
   "outputs": [],
   "source": [
    "d=0.2625\n",
    "a=6.8927\n",
    "k=0.4032\n",
    "c=2.3952\n",
    "p=0.3224\n"
   ]
  },
  {
   "cell_type": "code",
   "execution_count": 29,
   "metadata": {},
   "outputs": [],
   "source": [
    "def model(r):\n",
    "    x=r[0]\n",
    "    y=r[1]\n",
    "    z=r[2]\n",
    "    x1=1.0*(p*d*(x*x-a*x)+x*(x+y+c-c*np.tanh(x+z)))\n",
    "    y1=-1.0*p*d*(a*y+x*x)\n",
    "    z1=d*(k-z-0.5*x)\n",
    "    return (np.array([x1,y1,z1]))"
   ]
  },
  {
   "cell_type": "code",
   "execution_count": 30,
   "metadata": {},
   "outputs": [],
   "source": [
    "def jac(r,g1):\n",
    "    x=r[0]\n",
    "    y=r[1]\n",
    "    z=r[2]\n",
    "    M=np.array([[-c*np.tanh(x + z) + c + d*p*(-a + 2*x) + x*(-c*(1 - np.tanh(x + z)**2) + 1) + x + y,x,-c*x*(1 - np.tanh(x + z)**2)],[-2*x*p*d,-p*d*a,0],[-d*0.5,0,-d]])\n",
    "    res=np.matmul(M,g1)\n",
    "    return(res)"
   ]
  },
  {
   "cell_type": "code",
   "execution_count": 33,
   "metadata": {},
   "outputs": [
    {
     "name": "stdout",
     "output_type": "stream",
     "text": [
      "0.001627966808615403\n"
     ]
    }
   ],
   "source": [
    "tmax=8000\n",
    "t=0\n",
    "h=0.01\n",
    "x=-3\n",
    "y=0\n",
    "z=0\n",
    "g1=np.array([1,0,0])\n",
    "r=np.array([x,y,z])\n",
    "talp=0\n",
    "valt=[]\n",
    "vala=[]\n",
    "valx=[]\n",
    "while (t<tmax):\n",
    "    l1=jac(r,g1)\n",
    "    l2=jac(r,g1+0.5*h*l1)\n",
    "    l3=jac(r,g1+0.5*h*l2)\n",
    "    l4=jac(r,g1+h*l3)\n",
    "\n",
    "    g1=g1+(1.0/6)*h*(l1+2*l2+2*l3+l4)\n",
    "    norm=np.sqrt(g1[0]**2+g1[1]**2+g1[2]**2)\n",
    "\n",
    "    alp=np.log(norm)\n",
    "    talp=talp+alp\n",
    "    g1=g1/norm\n",
    "    \n",
    "    k1=model(r)\n",
    "    k2=model(r+0.5*h*k1)\n",
    "    k3=model(r+0.5*h*k2)\n",
    "    k4=model(r+k3*h)\n",
    "    t=t+h\n",
    "    valt.append(t)\n",
    "    vala.append(talp/t)\n",
    "    r=r+(1.0/6)*h*(k1+2*k2+2*k3+k4)\n",
    "    valx.append(r[0])\n",
    "print (talp/(tmax))"
   ]
  },
  {
   "cell_type": "code",
   "execution_count": 46,
   "metadata": {},
   "outputs": [
    {
     "data": {
      "image/png": "[encoded data removed]",
      "text/plain": [
       "<Figure size 432x288 with 1 Axes>"
      ]
     },
     "metadata": {
      "needs_background": "light"
     },
     "output_type": "display_data"
    }
   ],
   "source": [
    "del valt[0:10000]\n",
    "del vala[0:10000]\n",
    "fig, ax1 = plt.subplots()\n",
    "\n",
    "color = 'tab:blue'\n",
    "ax1.set_xlabel('time (s)')\n",
    "ax1.set_ylabel('exponent', color=color)\n",
    "ax1.plot(valt, vala, color=color)\n",
    "ax1.tick_params(axis='y', labelcolor=color)\n",
    "\n"
   ]
  },
  {
   "cell_type": "code",
   "execution_count": null,
   "metadata": {},
   "outputs": [],
   "source": []
  }
 ],
 "metadata": {
  "kernelspec": {
   "display_name": "Python 3",
   "language": "python",
   "name": "python3"
  },
  "language_info": {
   "codemirror_mode": {
    "name": "ipython",
    "version": 3
   },
   "file_extension": ".py",
   "mimetype": "text/x-python",
   "name": "python",
   "nbconvert_exporter": "python",
   "pygments_lexer": "ipython3",
   "version": "3.8.3"
  }
 },
 "nbformat": 4,
 "nbformat_minor": 4
}
