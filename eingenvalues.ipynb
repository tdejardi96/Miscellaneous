{
 "cells": [
  {
   "cell_type": "code",
   "execution_count": 1,
   "metadata": {},
   "outputs": [],
   "source": [
    "import numpy as np\n",
    "import sympy as sp"
   ]
  },
  {
   "cell_type": "code",
   "execution_count": 7,
   "metadata": {},
   "outputs": [],
   "source": [
    "d=sp.symbols('d')\n",
    "p=sp.symbols('p')\n",
    "a=sp.symbols('a')\n",
    "k=sp.symbols('k')\n",
    "x=sp.symbols('x')\n",
    "y=sp.symbols('y')\n",
    "z=sp.symbols('z')\n",
    "\n",
    "k=0.4032\n",
    "x=0.\n",
    "y=0\n",
    "\n",
    "M=sp.Matrix([[p*d*(2*x-a)+2*x+y,x,0],[-2*x*d*p,-p*x*d*p,0],[-d/2.0,0,-d]])\n",
    "\n",
    "dict_eig=M.eigenvals()"
   ]
  },
  {
   "cell_type": "code",
   "execution_count": 8,
   "metadata": {},
   "outputs": [
    {
     "name": "stdout",
     "output_type": "stream",
     "text": [
      "{-d: 1, -a*d*p/2 - d*p**2*x/2 + d*p*x + x + y/2 - sqrt(a**2*d**2*p**2 - 2*a*d**2*p**3*x - 4*a*d**2*p**2*x - 4*a*d*p*x - 2*a*d*p*y + d**2*p**4*x**2 + 4*d**2*p**3*x**2 + 4*d**2*p**2*x**2 + 4*d*p**2*x**2 + 2*d*p**2*x*y + 4*d*p*x*y + 4*x**2 + 4*x*y + y**2)/2: 1, -a*d*p/2 - d*p**2*x/2 + d*p*x + x + y/2 + sqrt(a**2*d**2*p**2 - 2*a*d**2*p**3*x - 4*a*d**2*p**2*x - 4*a*d*p*x - 2*a*d*p*y + d**2*p**4*x**2 + 4*d**2*p**3*x**2 + 4*d**2*p**2*x**2 + 4*d*p**2*x**2 + 2*d*p**2*x*y + 4*d*p*x*y + 4*x**2 + 4*x*y + y**2)/2: 1}\n"
     ]
    }
   ],
   "source": [
    "print(dict_eig)"
   ]
  },
  {
   "cell_type": "code",
   "execution_count": 10,
   "metadata": {},
   "outputs": [],
   "source": [
    "Ma=sp.Matrix([[1,2],[4,3]])\n",
    "\n",
    "dict_eig1=Ma.eigenvals()"
   ]
  },
  {
   "cell_type": "code",
   "execution_count": 11,
   "metadata": {},
   "outputs": [
    {
     "name": "stdout",
     "output_type": "stream",
     "text": [
      "{5: 1, -1: 1}\n"
     ]
    }
   ],
   "source": [
    "print(dict_eig1)"
   ]
  },
  {
   "cell_type": "code",
   "execution_count": 2,
   "metadata": {},
   "outputs": [],
   "source": []
  },
  {
   "cell_type": "code",
   "execution_count": 4,
   "metadata": {},
   "outputs": [],
   "source": [
    "p=0.3224\n",
    "d=.02625\n",
    "a=6.8927\n",
    "k=0.4032\n",
    "x=0.0\n",
    "y=-x**2/a\n",
    "z=k-x/2"
   ]
  },
  {
   "cell_type": "code",
   "execution_count": 5,
   "metadata": {},
   "outputs": [
    {
     "name": "stdout",
     "output_type": "stream",
     "text": [
      "0.0 -0.0 0.4032\n"
     ]
    }
   ],
   "source": [
    "print (x,y,z)"
   ]
  },
  {
   "cell_type": "code",
   "execution_count": 8,
   "metadata": {},
   "outputs": [],
   "source": [
    "y1=-((a*(1+p*d)**2+2*p*d*a)+np.sqrt((a*(1+p*d)**2+2*p*d*a)**2+4*p**2*d**2*a**2))/2\n",
    "y2=-((a*(1+p*d)**2+2*p*d*a)-np.sqrt((a*(1+p*d)**2+2*p*d*a)**2+4*p**2*d**2*a**2))/2\n",
    "\n",
    "x1=(y1-p*d*a)/(1+p*d)\n",
    "x2=(y2-p*d*a)/(1+p*d)\n",
    "\n",
    "z1=k-x1/2\n",
    "z2=k-x2/2"
   ]
  },
  {
   "cell_type": "code",
   "execution_count": 9,
   "metadata": {},
   "outputs": [
    {
     "name": "stdout",
     "output_type": "stream",
     "text": [
      "-7.125036529725394 -7.127002793776461 3.965718264862697\n"
     ]
    }
   ],
   "source": [
    "print(x1,y1,z1)"
   ]
  },
  {
   "cell_type": "code",
   "execution_count": 10,
   "metadata": {},
   "outputs": [
    {
     "name": "stdout",
     "output_type": "stream",
     "text": [
      "-0.057369956286295785 0.0004774418736532837 0.4318849781431479\n"
     ]
    }
   ],
   "source": [
    "print(x2,y2,z2)"
   ]
  },
  {
   "cell_type": "code",
   "execution_count": null,
   "metadata": {},
   "outputs": [],
   "source": []
  }
 ],
 "metadata": {
  "kernelspec": {
   "display_name": "Python 3",
   "language": "python",
   "name": "python3"
  },
  "language_info": {
   "codemirror_mode": {
    "name": "ipython",
    "version": 3
   },
   "file_extension": ".py",
   "mimetype": "text/x-python",
   "name": "python",
   "nbconvert_exporter": "python",
   "pygments_lexer": "ipython3",
   "version": "3.8.3"
  }
 },
 "nbformat": 4,
 "nbformat_minor": 4
}
