{
 "cells": [
  {
   "cell_type": "code",
   "execution_count": 1,
   "metadata": {},
   "outputs": [],
   "source": [
    "import numpy as np\n",
    "import scipy as sp\n",
    "from numpy import linalg as nla\n",
    "import matplotlib.pyplot as plt"
   ]
  },
  {
   "cell_type": "code",
   "execution_count": 73,
   "metadata": {},
   "outputs": [
    {
     "data": {
      "text/plain": [
       "0.1465201465201465"
      ]
     },
     "execution_count": 73,
     "metadata": {},
     "output_type": "execute_result"
    }
   ],
   "source": [
    "0.05/(0.2625*1.3)\n"
   ]
  },
  {
   "cell_type": "code",
   "execution_count": 74,
   "metadata": {},
   "outputs": [
    {
     "data": {
      "text/plain": [
       "0.7032967032967031"
      ]
     },
     "execution_count": 74,
     "metadata": {},
     "output_type": "execute_result"
    }
   ],
   "source": [
    "0.24/(0.2625*1.3)"
   ]
  },
  {
   "cell_type": "markdown",
   "metadata": {},
   "source": [
    "$\\epsilon=\\rho \\delta \\zeta$"
   ]
  },
  {
   "cell_type": "code",
   "execution_count": 75,
   "metadata": {},
   "outputs": [],
   "source": [
    "d=0.2625\n",
    "a=6.8927\n",
    "k=0.4032\n",
    "c=2.3952\n",
    "ksi=1.3\n",
    "rho=np.linspace(0.1,0.6,150)\n"
   ]
  },
  {
   "cell_type": "code",
   "execution_count": 76,
   "metadata": {},
   "outputs": [],
   "source": [
    "def model(r,p):\n",
    "    x=r[0]\n",
    "    y=r[1]\n",
    "    z=r[2]\n",
    "    x1=1.0*(p*d*(x*x-a*x)+x*(x+y+c-c*np.tanh(x+z)))\n",
    "    y1=-1.0*p*d*(a*y+x*x)\n",
    "    z1=d*(k-z-0.5*x)\n",
    "    return np.array([x1,y1,z1])"
   ]
  },
  {
   "cell_type": "code",
   "execution_count": 77,
   "metadata": {},
   "outputs": [],
   "source": [
    "def jac(r,p):\n",
    "    x=r[0]\n",
    "    y=r[1]\n",
    "    z=r[2]\n",
    "    M=np.array([[-c*np.tanh(x + z) + c + d*p*(-a + 2*x) + x*(-c*(1 - np.tanh(x + z)**2) + 1) + x + y,x,-c*x*(1 - np.tanh(x + z)**2)],\n",
    "                [-2*x*p*d,-p*d*a,0],\n",
    "                [-d*0.5,0,-d]])\n",
    "    return M"
   ]
  },
  {
   "cell_type": "code",
   "execution_count": 78,
   "metadata": {},
   "outputs": [],
   "source": [
    "def mul(r,p,g):\n",
    "    res=np.matmul(jac(r,p),g)\n",
    "    return res"
   ]
  },
  {
   "cell_type": "code",
   "execution_count": 79,
   "metadata": {},
   "outputs": [],
   "source": [
    "def integration():\n",
    "    exp1=[]\n",
    "    exp2=[]\n",
    "    exp3=[]\n",
    "    for i in rho:\n",
    "        g=np.identity(3)\n",
    "        tmax=800\n",
    "        h=0.01\n",
    "        t=0\n",
    "        x=-3\n",
    "        y=0\n",
    "        z=0\n",
    "        r=np.array([x,y,z])\n",
    "        talp=0\n",
    "        talp2=0\n",
    "        talp3=0\n",
    "        \n",
    "        # Time loop\n",
    "        while (t<tmax):\n",
    "            xt=r[0]\n",
    "            yt=r[1]\n",
    "            zt=r[2]\n",
    "    \n",
    "            #evolution of the perturbations along the Lyapunov directions\n",
    "            l1=mul(r,i,g)\n",
    "            l2=mul(r,i,g+0.5*h*l1)\n",
    "            l3=mul(r,i,g+0.5*h*l2)\n",
    "            l4=mul(r,i,g+h*l3)\n",
    "            g=g+(1.0/6)*h*(l1+2*l2+2*l3+l4)\n",
    "    \n",
    "            g1=g[:,0]\n",
    "            g2=g[:,1]\n",
    "            g3=g[:,2]\n",
    "    \n",
    "            # Gram-Schmittage\n",
    "            #1er exposant\n",
    "            norm=np.linalg.norm(g1)\n",
    "            alp=np.log(norm)\n",
    "            talp=talp+alp\n",
    "            g1=g1/norm\n",
    "    \n",
    "            #2eme exposant\n",
    "            g2p=g2-g1*(np.dot(g2,g1))\n",
    "            norm2=np.linalg.norm(g2p)\n",
    "            alp2=np.log(norm2)\n",
    "            talp2=talp2+alp2\n",
    "            g2=g2p/norm2\n",
    "    \n",
    "            #3eme exposant\n",
    "            g3p=(g3-g2*(np.dot(g3,g2))-g1*(np.dot(g3,g1)))\n",
    "            norm3=np.linalg.norm(g3p)\n",
    "            alp3=np.log(norm3)\n",
    "            talp3=talp3+alp3\n",
    "            g3=g3p/norm3\n",
    "    \n",
    "            # Gathering the new directions into a matrix\n",
    "            g=np.hstack([g1[:,np.newaxis],g2[:,np.newaxis],g3[:,np.newaxis]])\n",
    "    \n",
    "            # Model time evolution\n",
    "            k1=model(r,i)\n",
    "            k2=model(r+0.5*h*k1,i)\n",
    "            k3=model(r+0.5*h*k2,i)\n",
    "            k4=model(r+k3*h,i)\n",
    "            r=r+(1.0/6)*h*(k1+2*k2+2*k3+k4)\n",
    "            t=t+h\n",
    "        l1=talp/tmax\n",
    "        l2=talp2/tmax\n",
    "        l3=talp3/tmax\n",
    "        exp1.append(l1)\n",
    "        exp2.append(l2)\n",
    "        exp3.append(l3)\n",
    "    return (exp1,exp2,exp3)"
   ]
  },
  {
   "cell_type": "code",
   "execution_count": 80,
   "metadata": {},
   "outputs": [],
   "source": [
    "result=integration()"
   ]
  },
  {
   "cell_type": "code",
   "execution_count": 81,
   "metadata": {},
   "outputs": [],
   "source": [
    "epsi=rho*d*ksi"
   ]
  },
  {
   "cell_type": "code",
   "execution_count": 86,
   "metadata": {},
   "outputs": [
    {
     "data": {
      "image/png": "[encoded data removed]",
      "text/plain": [
       "<Figure size 576x432 with 1 Axes>"
      ]
     },
     "metadata": {
      "needs_background": "light"
     },
     "output_type": "display_data"
    }
   ],
   "source": [
    "fig, ax1 = plt.subplots(figsize=(8,6))\n",
    "\n",
    "color = 'tab:blue'\n",
    "ax1.set_xlabel('$\\epsilon$')\n",
    "ax1.set_ylabel('exponent')\n",
    "ax1.set_title('Lyapunov exponents as a function of $\\epsilon$ with d=0.2625 and zeta=1.3')\n",
    "ax1.plot(epsi, result[0], color=color, label='exponent 1')\n",
    "\n",
    "color = 'tab:orange'\n",
    "ax1.set_xlabel('epsilon')\n",
    "ax1.plot(epsi, result[1],color=color, label='exponent 2')\n",
    "\n",
    "color = 'tab:green'\n",
    "ax1.set_xlabel('$\\epsilon$')\n",
    "ax1.plot(epsi, result[2], color=color, label='exponent 3')\n",
    "\n",
    "plt.legend()\n",
    "fig.tight_layout()  \n",
    "plt.show()"
   ]
  },
  {
   "cell_type": "code",
   "execution_count": null,
   "metadata": {},
   "outputs": [],
   "source": []
  }
 ],
 "metadata": {
  "kernelspec": {
   "display_name": "Python 3",
   "language": "python",
   "name": "python3"
  },
  "language_info": {
   "codemirror_mode": {
    "name": "ipython",
    "version": 3
   },
   "file_extension": ".py",
   "mimetype": "text/x-python",
   "name": "python",
   "nbconvert_exporter": "python",
   "pygments_lexer": "ipython3",
   "version": "3.7.4"
  }
 },
 "nbformat": 4,
 "nbformat_minor": 4
}
