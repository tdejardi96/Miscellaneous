{
 "cells": [
  {
   "cell_type": "code",
   "execution_count": 7,
   "metadata": {},
   "outputs": [],
   "source": [
    "import numpy as np\n",
    "import sympy as sp"
   ]
  },
  {
   "cell_type": "code",
   "execution_count": 8,
   "metadata": {},
   "outputs": [
    {
     "data": {
      "image/png": "[encoded data removed]",
      "text/latex": [
       "$\\displaystyle \\left[ \\left( 0.0, \\  0.0, \\  0.4032\\right), \\  \\left( 0.583329201, \\  -0.04936715028063, \\  0.1115353995\\right), \\  \\left( 6.8927, \\  -6.8927, \\  -3.04315\\right)\\right]$"
      ],
      "text/plain": [
       "[(0.0, 0.0, 0.4032), (0.583329201, -0.04936715028063, 0.1115353995), (6.8927, \n",
       "-6.8927, -3.04315)]"
      ]
     },
     "execution_count": 8,
     "metadata": {},
     "output_type": "execute_result"
    }
   ],
   "source": [
    "sp.init_printing()\n",
    "x,y,z = sp.symbols('x,y,z')\n",
    "p,d,a,k,c=sp.symbols('p,d,a,k,c')\n",
    "p=0.3224\n",
    "d=0.2625\n",
    "a=6.8927\n",
    "k=0.4032\n",
    "c=0\n",
    "f = sp.Eq(p*d*(x**2-a*x)+x*(x+y+c-c*sp.tanh(x+z)),0)\n",
    "g = sp.Eq(-p*d*(a*y+x**2),0)\n",
    "h = sp.Eq(d*(k-z-0.5*x),0)\n",
    "\n",
    "sp.solve([f,g,h],(x,y,z))"
   ]
  },
  {
   "cell_type": "code",
   "execution_count": 5,
   "metadata": {},
   "outputs": [],
   "source": [
    "d=sp.symbols('d')\n",
    "p=sp.symbols('p')\n",
    "a=sp.symbols('a')\n",
    "k=sp.symbols('k')\n",
    "x=sp.symbols('x')\n",
    "y=sp.symbols('y')\n",
    "z=sp.symbols('z')\n",
    "d=0.2625\n",
    "p=0.3224\n",
    "a=6.8927\n",
    "k=0.4032\n",
    "x=0.\n",
    "y=0\n",
    "\n",
    "M=sp.Matrix([[p*d*(2*x-a)+2*x+y,x,0],[-2*x*d*p,-p*a*d,0],[-d/2.0,0,-d]])\n",
    "\n",
    "dict_eig=M.eigenvals()"
   ]
  },
  {
   "cell_type": "code",
   "execution_count": 6,
   "metadata": {},
   "outputs": [
    {
     "name": "stdout",
     "output_type": "stream",
     "text": [
      "{-0.583329201000000: 2, -0.262500000000000: 1}\n"
     ]
    }
   ],
   "source": [
    "print(dict_eig)"
   ]
  },
  {
   "cell_type": "code",
   "execution_count": 2,
   "metadata": {},
   "outputs": [],
   "source": [
    "Ma=sp.Matrix([[3,-2],[4,-1]])\n",
    "\n",
    "dict_eig1=Ma.eigenvals()"
   ]
  },
  {
   "cell_type": "code",
   "execution_count": 3,
   "metadata": {},
   "outputs": [
    {
     "name": "stdout",
     "output_type": "stream",
     "text": [
      "{1 - 2*I: 1, 1 + 2*I: 1}\n"
     ]
    }
   ],
   "source": [
    "print(dict_eig1)"
   ]
  },
  {
   "cell_type": "code",
   "execution_count": 2,
   "metadata": {},
   "outputs": [],
   "source": []
  },
  {
   "cell_type": "code",
   "execution_count": 4,
   "metadata": {},
   "outputs": [],
   "source": [
    "p=0.3224\n",
    "d=.02625\n",
    "a=6.8927\n",
    "k=0.4032\n",
    "x=0.0\n",
    "y=-x**2/a\n",
    "z=k-x/2"
   ]
  },
  {
   "cell_type": "code",
   "execution_count": 5,
   "metadata": {},
   "outputs": [
    {
     "name": "stdout",
     "output_type": "stream",
     "text": [
      "0.0 -0.0 0.4032\n"
     ]
    }
   ],
   "source": [
    "print (x,y,z)"
   ]
  },
  {
   "cell_type": "code",
   "execution_count": 8,
   "metadata": {},
   "outputs": [],
   "source": [
    "y1=-((a*(1+p*d)**2+2*p*d*a)+np.sqrt((a*(1+p*d)**2+2*p*d*a)**2+4*p**2*d**2*a**2))/2\n",
    "y2=-((a*(1+p*d)**2+2*p*d*a)-np.sqrt((a*(1+p*d)**2+2*p*d*a)**2+4*p**2*d**2*a**2))/2\n",
    "\n",
    "x1=(y1-p*d*a)/(1+p*d)\n",
    "x2=(y2-p*d*a)/(1+p*d)\n",
    "\n",
    "z1=k-x1/2\n",
    "z2=k-x2/2"
   ]
  },
  {
   "cell_type": "code",
   "execution_count": 9,
   "metadata": {},
   "outputs": [
    {
     "name": "stdout",
     "output_type": "stream",
     "text": [
      "-7.125036529725394 -7.127002793776461 3.965718264862697\n"
     ]
    }
   ],
   "source": [
    "print(x1,y1,z1)"
   ]
  },
  {
   "cell_type": "code",
   "execution_count": 10,
   "metadata": {},
   "outputs": [
    {
     "name": "stdout",
     "output_type": "stream",
     "text": [
      "-0.057369956286295785 0.0004774418736532837 0.4318849781431479\n"
     ]
    }
   ],
   "source": [
    "print(x2,y2,z2)"
   ]
  },
  {
   "cell_type": "code",
   "execution_count": null,
   "metadata": {},
   "outputs": [],
   "source": []
  }
 ],
 "metadata": {
  "kernelspec": {
   "display_name": "Python 3",
   "language": "python",
   "name": "python3"
  },
  "language_info": {
   "codemirror_mode": {
    "name": "ipython",
    "version": 3
   },
   "file_extension": ".py",
   "mimetype": "text/x-python",
   "name": "python",
   "nbconvert_exporter": "python",
   "pygments_lexer": "ipython3",
   "version": "3.8.3"
  }
 },
 "nbformat": 4,
 "nbformat_minor": 4
}
