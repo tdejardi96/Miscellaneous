{
 "cells": [
  {
   "cell_type": "code",
   "execution_count": 1,
   "metadata": {},
   "outputs": [],
   "source": [
    "import numpy as np\n",
    "import scipy as sp\n",
    "from numpy import linalg as nla\n",
    "import matplotlib.pyplot as plt"
   ]
  },
  {
   "cell_type": "code",
   "execution_count": 2,
   "metadata": {},
   "outputs": [],
   "source": [
    "def model(r):\n",
    "    x=r[0]\n",
    "    y=r[1]\n",
    "    z=r[2]\n",
    "    rho=0.3224\n",
    "    delta=0.2625\n",
    "    a=6.8927\n",
    "    k=0.4032\n",
    "    c=2.3952\n",
    "    x1=1.0*(rho*delta*(x*x-a*x)+x*(x+y+c-c*np.tanh(x+z)))\n",
    "    y1=-1.0*rho*delta*(a*y+x*x)\n",
    "    z1=delta*(k-z-0.5*x)\n",
    "    return (np.array([x1,y1,z1]))"
   ]
  },
  {
   "cell_type": "code",
   "execution_count": 3,
   "metadata": {},
   "outputs": [],
   "source": [
    "def jac(r,g1):\n",
    "    p=0.3224\n",
    "    d=0.2625\n",
    "    a=6.8927\n",
    "    c=2.3952\n",
    "    x=r[0]\n",
    "    y=r[1]\n",
    "    z=r[2]\n",
    "    M=np.array([[-c*np.tanh(x + z) + c + d*p*(-a + 2*x) + x*(-c*(1 - np.tanh(x + z)**2) + 1) + x + y,x,-c*x*(1 - np.tanh(x + z)**2)],[-2*x*p*d,-p*d*a,0],[-d*0.5,0,-d]])\n",
    "    res=np.matmul(M,g1)\n",
    "    return(res)"
   ]
  },
  {
   "cell_type": "code",
   "execution_count": 8,
   "metadata": {},
   "outputs": [
    {
     "name": "stdout",
     "output_type": "stream",
     "text": [
      "-0.0003852073081710089\n",
      "-0.002725957920967404\n",
      "-0.004261847686090479\n",
      "-0.4815007857449318\n"
     ]
    }
   ],
   "source": [
    "g1=np.array([1,0,0])\n",
    "g2=np.array([0,1,0])\n",
    "g3=np.array([0,0,1])\n",
    "tmax=400\n",
    "h=0.01\n",
    "t=0\n",
    "x=-3\n",
    "y=0\n",
    "z=0\n",
    "r=np.array([x,y,z])\n",
    "talp=0\n",
    "talp2=0\n",
    "talp3=0\n",
    "valt=[]\n",
    "amp1=[]\n",
    "amp2=[]\n",
    "amp3=[]\n",
    "valx=[]\n",
    "tr=0\n",
    "p=0.3224\n",
    "d=0.2625\n",
    "a=6.8927\n",
    "c=2.3952\n",
    "while (t<=tmax):\n",
    "    xt=r[0]\n",
    "    yt=r[1]\n",
    "    zt=r[2]\n",
    "    Ma=np.array([[-c*np.tanh(xt + zt) + c + d*p*(-a + 2*xt) + xt*(-c*(1 - np.tanh(xt + zt)**2) + 1) + xt + yt,xt,-c*xt*(1 - np.tanh(xt + zt)**2)],[-2*xt*p*d,-p*d*a,0],[-d*0.5,0,-d]])\n",
    "    trace=Ma.trace()\n",
    "    tr=tr+trace\n",
    "    l1=jac(r,g1)\n",
    "    l2=jac(r+0.5*h*l1,g1)\n",
    "    l3=jac(r+0.5*h*l2,g1)\n",
    "    l4=jac(r+h*l3,g1)\n",
    "    \n",
    "    g1=g1+(1.0/6)*h*(l1+2*l2+2*l3+l4)\n",
    "    norm=np.sqrt(g1[0]**2+g1[1]**2+g1[2]**2)\n",
    "    alp=np.log(norm)\n",
    "    talp=talp+alp\n",
    "    g1=g1/norm\n",
    "    \n",
    "    interm=(g2-g1*(np.dot(g2,g1)))\n",
    "    ninterm=np.sqrt(interm[0]**2+interm[1]**2+interm[2]**2)\n",
    "    g2=interm/ninterm\n",
    "    alp2=np.log(ninterm)\n",
    "    talp2=talp2+alp2\n",
    "    \n",
    "    interm2=(g3-g2*(np.dot(g3,g2))-g1*(np.dot(g3,g1)))\n",
    "    ninterm2=np.sqrt(interm2[0]**2+interm2[1]**2+interm2[2]**2)\n",
    "    g3=interm2/ninterm2\n",
    "    alp3=np.log(ninterm2)\n",
    "    talp3=talp3+alp3\n",
    "    \n",
    "    k1=model(r)\n",
    "    k2=model(r+0.5*h*k1)\n",
    "    k3=model(r+0.5*h*k2)\n",
    "    k4=model(r+k3*h)\n",
    "    t=t+h\n",
    "    valt.append(t)\n",
    "    amp1.append(talp/t)\n",
    "    amp2.append(talp2/t)\n",
    "    r=r+(1.0/6)*h*(k1+2*k2+2*k3+k4)\n",
    "    valx.append(r[0])\n",
    "print (talp/tmax)\n",
    "print (talp2/tmax)\n",
    "print (talp3/tmax)\n",
    "print(tr/(tmax/h))"
   ]
  },
  {
   "cell_type": "code",
   "execution_count": 9,
   "metadata": {},
   "outputs": [
    {
     "name": "stdout",
     "output_type": "stream",
     "text": [
      "-0.5353918408561577 -0.24375221991564877 1.204177011409551\n"
     ]
    }
   ],
   "source": [
    "xt=r[0]\n",
    "yt=r[1]\n",
    "zt=r[2]\n",
    "print(xt,yt,zt)"
   ]
  },
  {
   "cell_type": "code",
   "execution_count": 10,
   "metadata": {},
   "outputs": [
    {
     "name": "stdout",
     "output_type": "stream",
     "text": [
      "[[-0.14777352 -0.53539184  0.84474042]\n",
      " [ 0.09062042 -0.5833292   0.        ]\n",
      " [-0.13125     0.         -0.2625    ]]\n"
     ]
    },
    {
     "data": {
      "text/plain": [
       "-0.9936027247434696"
      ]
     },
     "execution_count": 10,
     "metadata": {},
     "output_type": "execute_result"
    }
   ],
   "source": [
    "p=0.3224\n",
    "d=0.2625\n",
    "a=6.8927\n",
    "c=2.3952\n",
    "Ma=np.array([[-c*np.tanh(xt + zt) + c + d*p*(-a + 2*xt) + xt*(-c*(1 - np.tanh(xt + zt)**2) + 1) + xt + yt,xt,-c*xt*(1 - np.tanh(xt + zt)**2)],[-2*xt*p*d,-p*d*a,0],[-d*0.5,0,-d]])\n",
    "print(Ma)\n",
    "Ma.trace()"
   ]
  },
  {
   "cell_type": "code",
   "execution_count": null,
   "metadata": {},
   "outputs": [],
   "source": [
    "fig, ax1 = plt.subplots()\n",
    "\n",
    "color = 'tab:blue'\n",
    "ax1.set_xlabel('time (s)')\n",
    "ax1.set_ylabel('exponent', color=color)\n",
    "ax1.plot(valt, amp1, color=color)\n",
    "ax1.tick_params(axis='y', labelcolor=color)\n",
    "\n",
    "ax2 = ax1.twinx()  \n",
    "\n",
    "color = 'tab:red'\n",
    "ax2.set_ylabel('x', color=color)  \n",
    "ax2.plot(valt, valx, color=color)\n",
    "ax2.tick_params(axis='y', labelcolor=color)\n",
    "\n",
    "fig.tight_layout()  \n",
    "plt.show()"
   ]
  },
  {
   "cell_type": "code",
   "execution_count": null,
   "metadata": {},
   "outputs": [],
   "source": [
    "plt.plot(valt,amp2,label='exp2')\n",
    "plt.plot(valt,amp1,label='exp1')\n",
    "plt.xlabel('time')\n",
    "plt.legend()\n",
    "plt.show()"
   ]
  },
  {
   "cell_type": "code",
   "execution_count": null,
   "metadata": {},
   "outputs": [],
   "source": []
  }
 ],
 "metadata": {
  "kernelspec": {
   "display_name": "Python 3",
   "language": "python",
   "name": "python3"
  },
  "language_info": {
   "codemirror_mode": {
    "name": "ipython",
    "version": 3
   },
   "file_extension": ".py",
   "mimetype": "text/x-python",
   "name": "python",
   "nbconvert_exporter": "python",
   "pygments_lexer": "ipython3",
   "version": "3.8.3"
  }
 },
 "nbformat": 4,
 "nbformat_minor": 4
}
